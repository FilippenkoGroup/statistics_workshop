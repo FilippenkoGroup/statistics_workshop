{
 "cells": [
  {
   "cell_type": "code",
   "execution_count": null,
   "metadata": {
    "slideshow": {
     "slide_type": "slide"
    }
   },
   "outputs": [],
   "source": [
    "import numpy as np\n",
    "import pandas as pd\n",
    "import matplotlib.pyplot as plt\n",
    "from scipy import stats\n",
    "\n",
    "plt.style.use(\"style.mplstyle\")  # A matplotlib \"style\" file to make plots look more like those in astro papers.\n",
    "np.random.seed(20210430)"
   ]
  },
  {
   "cell_type": "markdown",
   "metadata": {
    "slideshow": {
     "slide_type": "slide"
    }
   },
   "source": [
    "# Hypothesis Test for Significance\n",
    "\n",
    "> Our results are significant and not due to random chance\n",
    "\n",
    "> We have detected low-frequency quasi-periodic oscillation \\[...\\] with a **significance of 6.8σ** \\[...\\] \n",
    "> <br>&mdash; Saha et al. 2021\n",
    "\n",
    "> \\[We\\] reach 1.8% precision and find $H_0=73.2 \\pm 1.3$ km/sec/Mpc, a **4.2 sigma difference** with the prediction from Planck CMB observations under LambdaCDM.\n",
    "> <br>&mdash; Riess et al. 2021\n",
    "\n",
    "> \\[We found\\] a false alarm rate (FAR) of $<4.9 \\times 10^−6$ yr$^{−1}$, yielding a **p-value for GW150914 of $<2 \\times 10^{−7}$**\n",
    "> <br>&mdash; Ligo and Virgo Collaboration 2016"
   ]
  },
  {
   "cell_type": "markdown",
   "metadata": {
    "slideshow": {
     "slide_type": "subslide"
    }
   },
   "source": [
    "## Setting up the Hypothesis Test\n",
    "**Null hypothesis ($H_0$)**\n",
    ": A testable hypothesis often stating that a feature of the **data is insigificant** and any observed due differences from what's expected is **due to random chance**. \n",
    "    \n",
    "**Alternative hypothesis ($H_A$)**\n",
    ": Any other hypothesis often stating that a feature of the **data is significant** and the differences are **not due to random chance**."
   ]
  },
  {
   "cell_type": "code",
   "execution_count": null,
   "metadata": {
    "slideshow": {
     "slide_type": "slide"
    }
   },
   "outputs": [],
   "source": [
    "die_tosses = np.repeat(\n",
    "    (1,2,3,4,5,6),\n",
    "    (5,0,6,3,4,12)\n",
    ")\n",
    "\n",
    "faces, counts = np.unique(die_tosses, return_counts=True)\n",
    "plt.bar(faces, counts)\n",
    "plt.title(\"Tosses of a Die\")\n",
    "plt.xlabel(\"Face\")\n",
    "plt.ylabel(\"Count\")\n",
    "plt.grid(axis='y')"
   ]
  },
  {
   "cell_type": "markdown",
   "metadata": {
    "slideshow": {
     "slide_type": "fragment"
    }
   },
   "source": [
    "**Null hypothesis**:\n",
    "\n",
    "The die is does not favor sixes and is consistent with **rolling a fair die.**\n",
    "    \n",
    "**Alternative hypothesis**:\n",
    "\n",
    "The die favors sixes."
   ]
  },
  {
   "cell_type": "markdown",
   "metadata": {
    "slideshow": {
     "slide_type": "slide"
    }
   },
   "source": [
    "## Null Hypothesis Test\n",
    "\n",
    "Also known as \"Monte Carlo hypothesis test\"\n",
    "\n",
    "* **Empirical Sample**: A sample taken by using measurements. \n",
    "* **Simulated Sample**: A sample taken by using a process that produces synthetic measurements."
   ]
  },
  {
   "cell_type": "code",
   "execution_count": null,
   "metadata": {
    "scrolled": false,
    "slideshow": {
     "slide_type": "fragment"
    }
   },
   "outputs": [],
   "source": [
    "die_faces = (1, 2, 3, 4, 5, 6)\n",
    "die_probs = [1/6] * 6\n",
    "\n",
    "plt.bar(die_faces, die_probs)\n",
    "plt.xlabel(\"Face\")\n",
    "plt.ylabel(\"Probability\")\n",
    "plt.show()"
   ]
  },
  {
   "cell_type": "code",
   "execution_count": null,
   "metadata": {
    "slideshow": {
     "slide_type": "subslide"
    }
   },
   "outputs": [],
   "source": [
    "def roll(die_faces, die_probs, nrolls=30):\n",
    "    roll = np.random.choice(die_faces, p=die_probs, size=nrolls)\n",
    "    return roll\n",
    "\n",
    "result = roll(die_faces, die_probs)\n",
    "\n",
    "fig, axes = plt.subplots(nrows=1, ncols=2, figsize=(16, 6), sharey=True)\n",
    "\n",
    "faces, counts = np.unique(die_tosses, return_counts=True)\n",
    "axes[0].set_title(\"Empirical\")\n",
    "axes[0].bar(faces, counts)\n",
    "axes[0].set_xlabel(\"Face\")\n",
    "axes[0].grid(axis='y')\n",
    "axes[0].set_ylabel(\"Count\")\n",
    "axes[0].set_ylim(0, 15)\n",
    "\n",
    "faces, counts = np.unique(result, return_counts=True) \n",
    "axes[1].set_title(\"Simulated\")\n",
    "axes[1].bar(faces, counts)\n",
    "axes[1].set_xlabel(\"Face\")\n",
    "axes[1].grid(axis='y')\n",
    "\n",
    "plt.tight_layout()\n",
    "plt.show()"
   ]
  },
  {
   "cell_type": "code",
   "execution_count": null,
   "metadata": {
    "slideshow": {
     "slide_type": "subslide"
    }
   },
   "outputs": [],
   "source": [
    "def calculate_stats(sample):\n",
    "    \"\"\"Returns the proportion of \"6\" in the given sample (rolls of a die).\"\"\"\n",
    "    sample = np.array(sample)\n",
    "    # Typically you can do \n",
    "    # np.sum(sample == 6) / len(sample)\n",
    "    \n",
    "    # However, doesn't the above looks like an average of something?\n",
    "    return np.mean(sample == 6)\n",
    "\n",
    "def simulate(die_faces, die_probs, nrolls, reps):\n",
    "    \"\"\"Simulate `nrolls` tosses of a die given the die faces and probabilities for each side. \n",
    "    Repeat the simulation `reps` time calculating the statistics (as defined in `calculate_stats`) \n",
    "    and return a numpy array of those statistics.\n",
    "    \"\"\"\n",
    "    results = []\n",
    "    \n",
    "    for i in range(reps):\n",
    "        sample = roll(die_faces, die_probs, nrolls)\n",
    "        statistics = calculate_stats(sample)\n",
    "        results.append(statistics)\n",
    "        \n",
    "    return np.array(results)"
   ]
  },
  {
   "cell_type": "code",
   "execution_count": null,
   "metadata": {
    "slideshow": {
     "slide_type": "subslide"
    }
   },
   "outputs": [],
   "source": [
    "simulated_statistics = simulate(die_faces, die_probs, nrolls=30, reps=10000)\n",
    "\n",
    "plt.hist(simulated_statistics, bins=np.arange(30)/30, histtype='step')\n",
    "plt.xlabel(\"Proportion of Sixes\")\n",
    "plt.ylabel(\"Number of Simulations\")\n",
    "plt.show()"
   ]
  },
  {
   "cell_type": "code",
   "execution_count": null,
   "metadata": {
    "slideshow": {
     "slide_type": "subslide"
    }
   },
   "outputs": [],
   "source": [
    "empirical_statistic = calculate_stats(die_tosses)\n",
    "pvalue = np.mean(simulated_statistics >= empirical_statistic)\n",
    "print(f\"p-value = {pvalue}\")\n",
    "\n",
    "plt.hist(simulated_statistics, bins=np.arange(30)/30, histtype='step', label=\"Simulated stats\")\n",
    "plt.axvline(empirical_statistic, color='orange', label=\"Empirical stats\")\n",
    "\n",
    "plt.xlabel(\"Proportion of Sixes\")\n",
    "plt.ylabel(\"Number of Simulations\")\n",
    "plt.xlim(0, 0.6)\n",
    "plt.legend()\n",
    "plt.show()"
   ]
  },
  {
   "cell_type": "markdown",
   "metadata": {
    "slideshow": {
     "slide_type": "slide"
    }
   },
   "source": [
    "## Bootstrap Hypothesis Test"
   ]
  },
  {
   "cell_type": "code",
   "execution_count": null,
   "metadata": {
    "slideshow": {
     "slide_type": "subslide"
    }
   },
   "outputs": [],
   "source": [
    "x = np.linspace(0, 1, 100)\n",
    "y = x/4 + stats.norm().rvs(len(x))\n",
    "\n",
    "plt.figure(figsize=(8, 8))\n",
    "plt.scatter(x, y)\n",
    "plt.show()"
   ]
  },
  {
   "cell_type": "markdown",
   "metadata": {
    "slideshow": {
     "slide_type": "subslide"
    }
   },
   "source": [
    "**Null hypothesis**:\n",
    "\n",
    "\n",
    "    \n",
    "**Alternative hypothesis**: \n"
   ]
  },
  {
   "cell_type": "code",
   "execution_count": null,
   "metadata": {
    "slideshow": {
     "slide_type": "subslide"
    }
   },
   "outputs": [],
   "source": [
    "def calculate_slope(x, y):\n",
    "    \"\"\"Returns slope of least squares between x and y.\"\"\"\n",
    "    # This is a fancy analytical solution for (ordinary) least squares\n",
    "    corr_xy = stats.pearsonr(x, y)[0]\n",
    "    std_x = np.std(y)\n",
    "    std_y = np.std(x)\n",
    "    slope = corr_xy / (std_y / std_x)\n",
    "    return slope\n",
    "\n",
    "def simulate_bootstrap(x, y, reps):\n",
    "    slopes = []\n",
    "    for i in range(reps):\n",
    "        # Sample with replacement\n",
    "        # IMPORTANT: Each sample being is the same size as the original data\n",
    "        sample_x = np.random.choice(x, len(x))\n",
    "        sample_y = np.random.choice(y, len(y))\n",
    "        \n",
    "        slope = calculate_slope(sample_x, sample_y)\n",
    "        slopes.append(slope)\n",
    "        \n",
    "    return np.array(slopes)\n",
    "\n",
    "simulated_slopes = simulate_bootstrap(x, y, reps=10000)\n",
    "\n",
    "plt.hist(simulated_slopes, bins=40, histtype='step')\n",
    "plt.xlabel(\"Slope value\")\n",
    "plt.ylabel(\"Number of Simulations\");"
   ]
  },
  {
   "cell_type": "code",
   "execution_count": null,
   "metadata": {
    "slideshow": {
     "slide_type": "subslide"
    }
   },
   "outputs": [],
   "source": [
    "empirical_slope = calculate_slope(x, y)\n",
    "pvalue = np.mean(simulated_slopes >= empirical_slope)\n",
    "print(f\"p-value = {pvalue}\")\n",
    "\n",
    "plt.hist(simulated_slopes, bins=40, histtype='step', label=\"Simulated slopes\")\n",
    "plt.axvline(empirical_slope, color='#dd8452', label=\"Empirical slope\")\n",
    "\n",
    "plt.xlabel(\"Slope value\")\n",
    "plt.ylabel(\"Number of Simulations\")\n",
    "plt.legend();"
   ]
  },
  {
   "cell_type": "markdown",
   "metadata": {
    "heading_collapsed": true,
    "slideshow": {
     "slide_type": "slide"
    }
   },
   "source": [
    "# Uncertainty\n",
    "\n",
    "$$\n",
    "y = y_\\mathrm{true} + \\varepsilon\n",
    "$$"
   ]
  },
  {
   "attachments": {
    "image-4.png": {
     "image/png": "[encoded data removed]"
    }
   },
   "cell_type": "markdown",
   "metadata": {
    "hidden": true,
    "slideshow": {
     "slide_type": "slide"
    }
   },
   "source": [
    "## Sources of Uncertainties\n",
    "\n",
    "* Physics phenomena \n",
    "    * Photon noise, photoexcitation from the emitter.<br>\n",
    "    https://people.csail.mit.edu/hasinoff/pubs/hasinoff-photon-2012-preprint.pdf\n",
    "    * Thermal fluctuation within the measurement sensors.\n",
    "    * Cosmic rays\n",
    "    * etc\n",
    "* Probabilistic regression\n",
    "    * Bayesian model's posterior distribution\n",
    "    ![image-4.png](attachment:image-4.png)"
   ]
  },
  {
   "cell_type": "markdown",
   "metadata": {
    "slideshow": {
     "slide_type": "slide"
    }
   },
   "source": [
    "## Gaussian Uncertainty\n",
    "\n",
    "$$\n",
    "y = y_\\mathrm{true} + \\varepsilon\n",
    "$$\n",
    "\n",
    "Where $\\varepsilon$ is distributed as Gaussian (or Normal) with mean 0 and scatter $\\sigma_\\mathrm{true}$\n",
    "\n",
    "$$\n",
    "y = \\overline{Y} \\pm \\sigma\n",
    "$$\n",
    "\n",
    "Where $Y$ is a set of $N$ measurements of $y$ with mean $\\overline{Y}$ and scatter* $\\sigma$\n",
    "\n",
    "<small>*This estimates the true scatter $\\sigma_\\mathrm{true}$ using the root mean square of $Y$</small>"
   ]
  },
  {
   "cell_type": "code",
   "execution_count": null,
   "metadata": {
    "hidden": true,
    "slideshow": {
     "slide_type": "subslide"
    }
   },
   "outputs": [],
   "source": [
    "size = 100\n",
    "y_true = 1\n",
    "sigma_true = 1\n",
    "\n",
    "error_dist = stats.norm(0, sigma_true)\n",
    "errors = error_dist.rvs(size)\n",
    "y = y_true + errors\n",
    "\n",
    "# Plot\n",
    "plt.hist(y, 20, density=True, label=\"Empirical\", histtype='step')\n",
    "\n",
    "xrange = np.linspace(-3, 4, 100)\n",
    "plt.plot(xrange, stats.norm(y_true, sigma_true).pdf(xrange), label=\"True\")\n",
    "\n",
    "plt.title(f\"$\\overline{{Y}}$={np.mean(y):.2f}, $\\sigma$={np.std(y):.2f}\")\n",
    "plt.xlabel(f\"$y$\")\n",
    "plt.ylabel(\"Density\")\n",
    "plt.legend()\n",
    "plt.show()"
   ]
  },
  {
   "cell_type": "markdown",
   "metadata": {
    "hidden": true,
    "slideshow": {
     "slide_type": "slide"
    }
   },
   "source": [
    "## Error Propogation by Sampling"
   ]
  },
  {
   "cell_type": "code",
   "execution_count": null,
   "metadata": {},
   "outputs": [],
   "source": [
    "import pandas as pd\n",
    "\n",
    "y, y_sigma = 10, 3\n",
    "x, x_sigma = 40, 4\n",
    "\n",
    "pd.DataFrame([\n",
    "    {'x': x, 'x_sigma': x_sigma, 'y': y, 'y_sigma': y_sigma},\n",
    "    {'x': '...', 'x_sigma': '...', 'y': '...', 'y_sigma': '...'}\n",
    "])"
   ]
  },
  {
   "cell_type": "code",
   "execution_count": null,
   "metadata": {
    "hidden": true,
    "slideshow": {
     "slide_type": "subslide"
    }
   },
   "outputs": [],
   "source": [
    "def f(x, y):\n",
    "    return x + y\n",
    "\n",
    "sample_size = 100\n",
    "y_sample = stats.norm(y, y_sigma).rvs(sample_size)\n",
    "x_sample = stats.norm(x, x_sigma).rvs(sample_size)\n",
    "f_sample = f(x_sample, y_sample)\n",
    "\n",
    "plt.hist(f_sample, bins=20, histtype='step')\n",
    "plt.title(f\"$\\overline{{f}}={np.mean(f_sample):.2f}$, $\\sigma={np.std(f_sample):.2f}$\")\n",
    "plt.xlabel(f\"$f(x,y) = x + y$\")\n",
    "plt.ylabel(\"Density\")\n",
    "plt.show()"
   ]
  },
  {
   "cell_type": "code",
   "execution_count": null,
   "metadata": {},
   "outputs": [],
   "source": [
    "def f(x):\n",
    "    return -2.5 * np.log10(x)\n",
    "\n",
    "x, x_sigma = 1e10, 1e8\n",
    "\n",
    "size = 100\n",
    "x_sample = stats.norm(x, x_sigma).rvs(size)\n",
    "f_sample = f(x_sample)\n",
    "\n",
    "plt.hist(f_sample, bins=20, histtype='step')\n",
    "plt.title(f\"$\\overline{{f}}={np.mean(f_sample):.2f}$, $\\sigma={np.std(f_sample):.5f}$\")\n",
    "plt.xlabel(f\"$f(x) = -2.5\\log_{{10}}(x)$\")\n",
    "plt.ylabel(\"Density\")\n",
    "plt.show()"
   ]
  },
  {
   "cell_type": "markdown",
   "metadata": {
    "slideshow": {
     "slide_type": "slide"
    }
   },
   "source": [
    "## BONUS: Error Propogation by Variance\n",
    "\n",
    "An analytical method to error propogation is by definition to calculate the variance of the function applied to your random variable. As usual there are only certain situations where we can find the analytical solution easily. One of those happens to be the linear combination of variables with Gaussian errors.\n",
    "\n",
    "Let $x$ and $y$ be a variable with Gaussian random error. Both errors have the same mean but different scatter* $\\sigma_x$ and $\\sigma_y$ respectively. A neat trick is write $y$ and $x$ in \"random variable notation\",\n",
    "\n",
    "$$ \n",
    "y = y_\\mathrm{true} + \\sigma_y Z_y \\\\\n",
    "x = x_\\mathrm{true} + \\sigma_x Z_x \\,,\n",
    "$$\n",
    "\n",
    "where $Z_x$ and $Z_y$ are two independent random variables distributed as the \"standard normal\" (a Gaussian with mean 0 and scatter 1). This should not be that surprising as you know the $y_\\text{true}$ constant shifts the Gaussian left and right while the $\\sigma_y$ constant scales the width of the Gaussian. This is why in `scipy.stats.norm`, the parameter names are `loc` and `scale`.\n",
    "\n",
    "Let $A=f(x,y)$ and the scatter of $A$ is given by the square root variance (definition of scatter)\n",
    "\n",
    "$$\n",
    "A \\equiv f(y, x)\\\\\n",
    "\\sigma_A \\equiv \\sqrt{\\text{Var}(A)}\n",
    "$$\n",
    "\n",
    "<small>\\*In physics, \"scatter (parameter)\" refers to what in statistics calls the \"standard deviation\". You are likely familiar with this term when looking at exam scores.</small>\n",
    "\n",
    "### Analytical solution for sums of two independent Gaussian variables\n",
    "\n",
    "Let $f(x,y) = x + y$, then $A$ is,\n",
    "\n",
    "$$\n",
    "A = x + y\\\\\n",
    "A = y_\\mathrm{true} + \\sigma_y Z_y + x_\\mathrm{true} + \\sigma_x Z_x\n",
    "$$\n",
    "\n",
    "Now let's calculate the variance. We will not review variance here so you'll have to trust me with these properties. \n",
    "\n",
    "1. The variance of a constant is always 0 (since constants do not vary)\n",
    "2. The variance of a normal random variable is always the square of its scatter parameter ($\\sigma$) (by definition). \n",
    "3. The variance of a product between a constant and a random variable \"takes out\" the constant squared.\n",
    "   $$\\mathrm{Var}(cX) = c^2 \\mathrm{Var}(X)$$\n",
    "   \n",
    "   You can convinced yourself this by plotting the histogram of some sample from a normal distribution multiplied by 2. Notice the width of the histogram is wider by a factor of 2 and the variance is the square of that.\n",
    "   \n",
    "4. The variance of the sum of two random variables $X$ and $Y$ is the sum of the individual variances only if the two random variables are independent\n",
    "    $$\\mathrm{Var}(X + Y) = \\mathrm{Var}(X) + \\mathrm{Var}(Y)$$\n",
    "    \n",
    "With the above properties, we notice each term in $A$ is independent from every other term (constants are never dependent and $Z_x$ and $Z_y$ are independent as stated above). Then the variance of $A$ is the variance of each term!\n",
    "\n",
    "$$\n",
    "\\begin{align}\n",
    "\\text{Var}(A) &= \\text{Var}\\left(x_\\mathrm{true} + \\sigma_x Z_x + y_\\mathrm{true} + \\sigma_y Z_y\\right)\\\\\n",
    "&= \\text{Var}(x_\\text{true}) + \\text{Var}(\\sigma_x Z_x) + \\text{Var}(y_\\text{true}) + \\text{Var}(\\sigma_y Z_y) \\\\\n",
    "&= 0 + \\sigma_x^2\\text{Var}(Z_x) + 0 + \\sigma_y^2\\text{Var}( Z_y) \\\\\n",
    "&= \\sigma_x^2 \\cdot 1^2 + \\sigma_y^2 \\cdot 1^2 \\\\\n",
    "&= \\sigma_x^2 + \\sigma_y^2\n",
    "\\end{align}\n",
    "$$\n",
    "\n",
    "Therefore,\n",
    "\n",
    "$$\n",
    "\\boxed{\\sigma_A = \\sqrt{\\text{Var}(A)} = \\sqrt{\\sigma_x^2 + \\sigma_y^2}}\\\\\n",
    "\\boxed{\\sigma_{x+y} = \\sqrt{\\sigma_x^2 + \\sigma_y^2}}\n",
    "$$"
   ]
  },
  {
   "cell_type": "markdown",
   "metadata": {
    "slideshow": {
     "slide_type": "slide"
    }
   },
   "source": [
    "## Resources\n",
    "\n",
    "* Data 8: The Foundations of Data Science. <br>\n",
    "    * Working with data\n",
    "    * Sampling\n",
    "    * https://inferentialthinking.com/chapters/intro.html\n",
    "* Data 100: Principles and Techniques of Data Science<br> \n",
    "    * Exploratory data analysis\n",
    "    * Machine learning regression and classification\n",
    "    * https://www.textbook.ds100.org/intro.html\n",
    "* Prob 140: Probability for Data Science <br>\n",
    "    * Probability theory\n",
    "    * Computational statistics\n",
    "    * http://prob140.org/textbook/content/README.html\n",
    "* Astro 128/256: Astro Datalab <br>\n",
    "* Physics 151: Data science and Bayesian statistics for physical sciences\n",
    "\n"
   ]
  }
 ],
 "metadata": {
  "kernelspec": {
   "display_name": "Python 3",
   "language": "python",
   "name": "python3"
  },
  "language_info": {
   "codemirror_mode": {
    "name": "ipython",
    "version": 3
   },
   "file_extension": ".py",
   "mimetype": "text/x-python",
   "name": "python",
   "nbconvert_exporter": "python",
   "pygments_lexer": "ipython3",
   "version": "3.8.9"
  },
  "toc": {
   "base_numbering": 1,
   "nav_menu": {},
   "number_sections": true,
   "sideBar": true,
   "skip_h1_title": false,
   "title_cell": "Table of Contents",
   "title_sidebar": "Contents",
   "toc_cell": true,
   "toc_position": {},
   "toc_section_display": true,
   "toc_window_display": false
  }
 },
 "nbformat": 4,
 "nbformat_minor": 4
}
